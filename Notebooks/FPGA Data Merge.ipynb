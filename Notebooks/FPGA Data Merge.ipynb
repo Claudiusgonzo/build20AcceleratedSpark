{
 "cells": [
  {
   "cell_type": "code",
   "execution_count": 1,
   "metadata": {},
   "outputs": [],
   "source": [
    "import pandas as pd\n",
    "import numpy as np\n",
    "import os, glob\n",
    "import matplotlib.pylab as plt"
   ]
  },
  {
   "cell_type": "code",
   "execution_count": 2,
   "metadata": {},
   "outputs": [],
   "source": [
    "files_loc = os.path.expanduser(r\"~/git/PipeDream/benchmarking/queries\")\n",
    "time_files = glob.glob(os.path.join(files_loc, \"fpga_*.csv\"))\n",
    "res_files = glob.glob(os.path.join(files_loc, \"q1out*.csv\"))"
   ]
  },
  {
   "cell_type": "code",
   "execution_count": 3,
   "metadata": {},
   "outputs": [],
   "source": [
    "df_time = pd.read_csv(time_files[0], header=None)\n",
    "df_res = pd.read_csv(res_files[0], header=None)"
   ]
  },
  {
   "cell_type": "code",
   "execution_count": 4,
   "metadata": {},
   "outputs": [],
   "source": [
    "data_path = os.path.expanduser(r\"~/data/taxi_data_cleaned\")\n",
    "all_files = os.listdir(os.path.expanduser(data_path))"
   ]
  },
  {
   "cell_type": "code",
   "execution_count": 5,
   "metadata": {},
   "outputs": [],
   "source": [
    "df = pd.DataFrame({\"files\":all_files, \"count\": df_res[0], \"time\": df_time[0] / (1000 * 1000)})\n",
    "df.set_index(\"files\", inplace=True)"
   ]
  },
  {
   "cell_type": "code",
   "execution_count": 6,
   "metadata": {},
   "outputs": [
    {
     "data": {
      "text/html": [
       "<div>\n",
       "<style scoped>\n",
       "    .dataframe tbody tr th:only-of-type {\n",
       "        vertical-align: middle;\n",
       "    }\n",
       "\n",
       "    .dataframe tbody tr th {\n",
       "        vertical-align: top;\n",
       "    }\n",
       "\n",
       "    .dataframe thead th {\n",
       "        text-align: right;\n",
       "    }\n",
       "</style>\n",
       "<table border=\"1\" class=\"dataframe\">\n",
       "  <thead>\n",
       "    <tr style=\"text-align: right;\">\n",
       "      <th></th>\n",
       "      <th>count</th>\n",
       "      <th>time</th>\n",
       "    </tr>\n",
       "    <tr>\n",
       "      <th>files</th>\n",
       "      <th></th>\n",
       "      <th></th>\n",
       "    </tr>\n",
       "  </thead>\n",
       "  <tbody>\n",
       "    <tr>\n",
       "      <th>yellow_tripdata_2011-06.csv</th>\n",
       "      <td>14092413</td>\n",
       "      <td>22.215828</td>\n",
       "    </tr>\n",
       "    <tr>\n",
       "      <th>yellow_tripdata_2011-02.csv</th>\n",
       "      <td>13380122</td>\n",
       "      <td>22.411802</td>\n",
       "    </tr>\n",
       "    <tr>\n",
       "      <th>yellow_tripdata_2019-09.csv</th>\n",
       "      <td>14387371</td>\n",
       "      <td>22.519684</td>\n",
       "    </tr>\n",
       "    <tr>\n",
       "      <th>yellow_tripdata_2017-02.csv</th>\n",
       "      <td>14294783</td>\n",
       "      <td>22.341600</td>\n",
       "    </tr>\n",
       "    <tr>\n",
       "      <th>yellow_tripdata_2017-09.csv</th>\n",
       "      <td>2074</td>\n",
       "      <td>32.472827</td>\n",
       "    </tr>\n",
       "  </tbody>\n",
       "</table>\n",
       "</div>"
      ],
      "text/plain": [
       "                                count       time\n",
       "files                                           \n",
       "yellow_tripdata_2011-06.csv  14092413  22.215828\n",
       "yellow_tripdata_2011-02.csv  13380122  22.411802\n",
       "yellow_tripdata_2019-09.csv  14387371  22.519684\n",
       "yellow_tripdata_2017-02.csv  14294783  22.341600\n",
       "yellow_tripdata_2017-09.csv      2074  32.472827"
      ]
     },
     "execution_count": 6,
     "metadata": {},
     "output_type": "execute_result"
    }
   ],
   "source": [
    "df.head()"
   ]
  },
  {
   "cell_type": "code",
   "execution_count": 16,
   "metadata": {},
   "outputs": [],
   "source": [
    "from multiprocessing import Pool, cpu_count\n",
    "def get_count(f):\n",
    "    fn = os.path.join(data_path, f)\n",
    "    print(f\"Reading: {f}\")\n",
    "    with open(fn, \"r\") as fd:\n",
    "        l = fd.readlines()\n",
    "    return len(l)"
   ]
  },
  {
   "cell_type": "code",
   "execution_count": 17,
   "metadata": {},
   "outputs": [
    {
     "name": "stdout",
     "output_type": "stream",
     "text": [
      "Reading: yellow_tripdata_2011-09.csv\n",
      "Reading: yellow_tripdata_2011-06.csv\n",
      "Reading: yellow_tripdata_2017-09.csv\n",
      "Reading: yellow_tripdata_2019-10.csv\n",
      "Reading: yellow_tripdata_2015-06.csv\n",
      "Reading: yellow_tripdata_2015-04.csv\n",
      "Reading: yellow_tripdata_2018-05.csv\n",
      "Reading: yellow_tripdata_2016-07.csv\n",
      "Reading: yellow_tripdata_2018-03.csv\n",
      "Reading: yellow_tripdata_2012-07.csv\n",
      "Reading: yellow_tripdata_2011-02.csv\n",
      "Reading: yellow_tripdata_2019-09.csv\n",
      "Reading: yellow_tripdata_2017-02.csv\n",
      "Reading: yellow_tripdata_2012-04.csv\n",
      "Reading: yellow_tripdata_2019-07.csv\n",
      "Reading: yellow_tripdata_2010-08.csv\n",
      "Reading: yellow_tripdata_2017-04.csv\n",
      "Reading: yellow_tripdata_2014-12.csv\n",
      "Reading: yellow_tripdata_2014-11.csv\n",
      "Reading: yellow_tripdata_2012-03.csv\n",
      "Reading: yellow_tripdata_2015-05.csv\n",
      "Reading: yellow_tripdata_2010-07.csv\n",
      "Reading: yellow_tripdata_2017-01.csv\n",
      "Reading: yellow_tripdata_2015-12.csv\n",
      "Reading: yellow_tripdata_2018-01.csv\n",
      "Reading: yellow_tripdata_2009-11.csv\n",
      "Reading: yellow_tripdata_2014-04.csv\n",
      "Reading: yellow_tripdata_2017-11.csv\n",
      "Reading: yellow_tripdata_2014-08.csv\n",
      "Reading: yellow_tripdata_2011-10.csv\n",
      "Reading: yellow_tripdata_2010-05.csv\n",
      "Reading: yellow_tripdata_2016-05.csv\n",
      "Reading: yellow_tripdata_2018-07.csv\n",
      "Reading: yellow_tripdata_2017-05.csv\n",
      "Reading: yellow_tripdata_2019-05.csv\n",
      "Reading: yellow_tripdata_2012-11.csv\n",
      "Reading: yellow_tripdata_2015-02.csv\n",
      "Reading: yellow_tripdata_2010-09.csv\n",
      "Reading: yellow_tripdata_2010-06.csv\n",
      "Reading: yellow_tripdata_2015-08.csv\n",
      "Reading: yellow_tripdata_2016-03.csv\n",
      "Reading: yellow_tripdata_2017-08.csv\n",
      "Reading: yellow_tripdata_2013-10.csv\n",
      "Reading: yellow_tripdata_2015-10.csv\n",
      "Reading: yellow_tripdata_2009-03.csv\n",
      "Reading: yellow_tripdata_2018-04.csv\n",
      "Reading: yellow_tripdata_2009-06.csv\n",
      "Reading: yellow_tripdata_2017-06.csv\n",
      "Reading: yellow_tripdata_2010-12.csv\n",
      "Reading: yellow_tripdata_2014-06.csv\n",
      "Reading: yellow_tripdata_2014-10.csv\n",
      "Reading: yellow_tripdata_2013-12.csv\n",
      "Reading: yellow_tripdata_2012-10.csv\n",
      "Reading: yellow_tripdata_2015-03.csv\n",
      "Reading: yellow_tripdata_2019-02.csv\n",
      "Reading: yellow_tripdata_2011-07.csv\n",
      "Reading: yellow_tripdata_2011-03.csv\n",
      "Reading: yellow_tripdata_2009-02.csv\n",
      "Reading: yellow_tripdata_2018-12.csv\n",
      "Reading: yellow_tripdata_2010-01.csv\n",
      "Reading: yellow_tripdata_2013-01.csv\n",
      "Reading: yellow_tripdata_2011-05.csv\n",
      "Reading: yellow_tripdata_2019-08.csv\n",
      "Reading: yellow_tripdata_2016-02.csv\n",
      "Reading: yellow_tripdata_2014-09.csv\n",
      "Reading: yellow_tripdata_2014-01.csv\n",
      "Reading: yellow_tripdata_2016-09.csv\n",
      "Reading: yellow_tripdata_2019-01.csv\n",
      "Reading: yellow_tripdata_2012-02.csv\n",
      "Reading: yellow_tripdata_2009-10.csv\n",
      "Reading: yellow_tripdata_2012-01.csv\n",
      "Reading: yellow_tripdata_2013-11.csv\n",
      "Reading: yellow_tripdata_2009-08.csv\n",
      "Reading: yellow_tripdata_2009-01.csv\n",
      "Reading: yellow_tripdata_2017-07.csv\n",
      "Reading: yellow_tripdata_2010-10.csv\n",
      "Reading: yellow_tripdata_2010-11.csv\n",
      "Reading: yellow_tripdata_2011-12.csv\n",
      "Reading: yellow_tripdata_2016-11.csv\n",
      "Reading: yellow_tripdata_2011-04.csv\n",
      "Reading: yellow_tripdata_2015-09.csv\n",
      "Reading: yellow_tripdata_2009-09.csv\n",
      "Reading: yellow_tripdata_2015-11.csv\n",
      "Reading: yellow_tripdata_2014-05.csv\n",
      "Reading: yellow_tripdata_2012-09.csv\n",
      "Reading: yellow_tripdata_2016-06.csv\n",
      "Reading: yellow_tripdata_2009-05.csv\n",
      "Reading: yellow_tripdata_2016-10.csv\n",
      "Reading: yellow_tripdata_2012-06.csv\n",
      "Reading: yellow_tripdata_2018-06.csv\n",
      "Reading: yellow_tripdata_2014-02.csv\n",
      "Reading: yellow_tripdata_2013-08.csv\n",
      "Reading: yellow_tripdata_2016-04.csv\n",
      "Reading: yellow_tripdata_2009-04.csv\n",
      "Reading: yellow_tripdata_2012-12.csv\n",
      "Reading: yellow_tripdata_2017-03.csv\n",
      "Reading: yellow_tripdata_2017-10.csv\n",
      "Reading: yellow_tripdata_2013-02.csv\n",
      "Reading: yellow_tripdata_2012-08.csv\n",
      "Reading: yellow_tripdata_2018-09.csv\n",
      "Reading: yellow_tripdata_2011-01.csv\n",
      "Reading: yellow_tripdata_2013-03.csv\n",
      "Reading: yellow_tripdata_2019-12.csv\n",
      "Reading: yellow_tripdata_2016-01.csv\n",
      "Reading: yellow_tripdata_2019-11.csv\n",
      "Reading: yellow_tripdata_2013-09.csv\n",
      "Reading: yellow_tripdata_2012-05.csv\n",
      "Reading: yellow_tripdata_2016-12.csv\n",
      "Reading: yellow_tripdata_2011-11.csv\n",
      "Reading: yellow_tripdata_2018-02.csv\n",
      "Reading: yellow_tripdata_2013-04.csv\n",
      "Reading: yellow_tripdata_2014-03.csv\n",
      "Reading: yellow_tripdata_2011-08.csv\n",
      "Reading: yellow_tripdata_2016-08.csv\n",
      "Reading: yellow_tripdata_2013-05.csv\n",
      "Reading: yellow_tripdata_2010-04.csv\n",
      "Reading: yellow_tripdata_2013-07.csv\n",
      "Reading: yellow_tripdata_2015-07.csv\n",
      "Reading: yellow_tripdata_2017-12.csv\n",
      "Reading: yellow_tripdata_2015-01.csv\n",
      "Reading: yellow_tripdata_2019-06.csv\n",
      "Reading: yellow_tripdata_2013-06.csv\n",
      "Reading: yellow_tripdata_2009-07.csv\n",
      "Reading: yellow_tripdata_2019-03.csv\n",
      "Reading: yellow_tripdata_2009-12.csv\n",
      "Reading: yellow_tripdata_2018-08.csv\n",
      "Reading: yellow_tripdata_2018-10.csv\n",
      "Reading: yellow_tripdata_2014-07.csv\n",
      "Reading: yellow_tripdata_2019-04.csv\n",
      "Reading: yellow_tripdata_2018-11.csv\n"
     ]
    }
   ],
   "source": [
    "lngths = Pool(cpu_count()).map(get_count, all_files)"
   ]
  },
  {
   "cell_type": "code",
   "execution_count": 19,
   "metadata": {},
   "outputs": [],
   "source": [
    "df[\"real_count\"] = lngths"
   ]
  },
  {
   "cell_type": "code",
   "execution_count": 24,
   "metadata": {},
   "outputs": [
    {
     "data": {
      "text/html": [
       "<div>\n",
       "<style scoped>\n",
       "    .dataframe tbody tr th:only-of-type {\n",
       "        vertical-align: middle;\n",
       "    }\n",
       "\n",
       "    .dataframe tbody tr th {\n",
       "        vertical-align: top;\n",
       "    }\n",
       "\n",
       "    .dataframe thead th {\n",
       "        text-align: right;\n",
       "    }\n",
       "</style>\n",
       "<table border=\"1\" class=\"dataframe\">\n",
       "  <thead>\n",
       "    <tr style=\"text-align: right;\">\n",
       "      <th></th>\n",
       "      <th>count</th>\n",
       "      <th>time</th>\n",
       "      <th>real_count</th>\n",
       "    </tr>\n",
       "    <tr>\n",
       "      <th>files</th>\n",
       "      <th></th>\n",
       "      <th></th>\n",
       "      <th></th>\n",
       "    </tr>\n",
       "  </thead>\n",
       "  <tbody>\n",
       "    <tr>\n",
       "      <th>yellow_tripdata_2011-06.csv</th>\n",
       "      <td>14092413</td>\n",
       "      <td>22.215828</td>\n",
       "      <td>15097860</td>\n",
       "    </tr>\n",
       "    <tr>\n",
       "      <th>yellow_tripdata_2011-02.csv</th>\n",
       "      <td>13380122</td>\n",
       "      <td>22.411802</td>\n",
       "      <td>14612198</td>\n",
       "    </tr>\n",
       "    <tr>\n",
       "      <th>yellow_tripdata_2019-09.csv</th>\n",
       "      <td>14387371</td>\n",
       "      <td>22.519684</td>\n",
       "      <td>6567787</td>\n",
       "    </tr>\n",
       "    <tr>\n",
       "      <th>yellow_tripdata_2017-02.csv</th>\n",
       "      <td>14294783</td>\n",
       "      <td>22.341600</td>\n",
       "      <td>9168824</td>\n",
       "    </tr>\n",
       "    <tr>\n",
       "      <th>yellow_tripdata_2017-09.csv</th>\n",
       "      <td>2074</td>\n",
       "      <td>32.472827</td>\n",
       "      <td>8945458</td>\n",
       "    </tr>\n",
       "    <tr>\n",
       "      <th>...</th>\n",
       "      <td>...</td>\n",
       "      <td>...</td>\n",
       "      <td>...</td>\n",
       "    </tr>\n",
       "    <tr>\n",
       "      <th>yellow_tripdata_2012-05.csv</th>\n",
       "      <td>9168824</td>\n",
       "      <td>9.511710</td>\n",
       "      <td>15567525</td>\n",
       "    </tr>\n",
       "    <tr>\n",
       "      <th>yellow_tripdata_2012-06.csv</th>\n",
       "      <td>10294628</td>\n",
       "      <td>12.133109</td>\n",
       "      <td>15096468</td>\n",
       "    </tr>\n",
       "    <tr>\n",
       "      <th>yellow_tripdata_2018-09.csv</th>\n",
       "      <td>10046188</td>\n",
       "      <td>12.601911</td>\n",
       "      <td>8040133</td>\n",
       "    </tr>\n",
       "    <tr>\n",
       "      <th>yellow_tripdata_2019-11.csv</th>\n",
       "      <td>10102124</td>\n",
       "      <td>11.164433</td>\n",
       "      <td>6878111</td>\n",
       "    </tr>\n",
       "    <tr>\n",
       "      <th>yellow_tripdata_2011-08.csv</th>\n",
       "      <td>9656993</td>\n",
       "      <td>11.466085</td>\n",
       "      <td>13262441</td>\n",
       "    </tr>\n",
       "  </tbody>\n",
       "</table>\n",
       "<p>100 rows × 3 columns</p>\n",
       "</div>"
      ],
      "text/plain": [
       "                                count       time  real_count\n",
       "files                                                       \n",
       "yellow_tripdata_2011-06.csv  14092413  22.215828    15097860\n",
       "yellow_tripdata_2011-02.csv  13380122  22.411802    14612198\n",
       "yellow_tripdata_2019-09.csv  14387371  22.519684     6567787\n",
       "yellow_tripdata_2017-02.csv  14294783  22.341600     9168824\n",
       "yellow_tripdata_2017-09.csv      2074  32.472827     8945458\n",
       "...                               ...        ...         ...\n",
       "yellow_tripdata_2012-05.csv   9168824   9.511710    15567525\n",
       "yellow_tripdata_2012-06.csv  10294628  12.133109    15096468\n",
       "yellow_tripdata_2018-09.csv  10046188  12.601911     8040133\n",
       "yellow_tripdata_2019-11.csv  10102124  11.164433     6878111\n",
       "yellow_tripdata_2011-08.csv   9656993  11.466085    13262441\n",
       "\n",
       "[100 rows x 3 columns]"
      ]
     },
     "execution_count": 24,
     "metadata": {},
     "output_type": "execute_result"
    }
   ],
   "source": [
    "df.head(n=100)"
   ]
  },
  {
   "cell_type": "code",
   "execution_count": 23,
   "metadata": {},
   "outputs": [],
   "source": [
    "df.to_csv(os.path.join(files_loc, \"fpga_results.csv\"), index=False)"
   ]
  },
  {
   "cell_type": "code",
   "execution_count": 3,
   "metadata": {},
   "outputs": [],
   "source": [
    "df = pd.read_csv(os.path.join(files_loc, \"fpga_results.csv\"))"
   ]
  },
  {
   "cell_type": "code",
   "execution_count": 7,
   "metadata": {},
   "outputs": [
    {
     "data": {
      "text/plain": [
       "<matplotlib.axes._subplots.AxesSubplot at 0x7fe0d60acf28>"
      ]
     },
     "execution_count": 7,
     "metadata": {},
     "output_type": "execute_result"
    },
    {
     "data": {
      "image/png": "[encoded data removed]",
      "text/plain": [
       "<Figure size 1440x1440 with 1 Axes>"
      ]
     },
     "metadata": {
      "needs_background": "light"
     },
     "output_type": "display_data"
    }
   ],
   "source": [
    "plt.rcParams[\"figure.figsize\"] = 20, 20\n",
    "df[:20][[\"count\", \"real_count\"]].plot.bar()"
   ]
  },
  {
   "cell_type": "code",
   "execution_count": null,
   "metadata": {},
   "outputs": [],
   "source": [
    "import matplo"
   ]
  },
  {
   "cell_type": "code",
   "execution_count": 26,
   "metadata": {},
   "outputs": [
    {
     "name": "stdout",
     "output_type": "stream",
     "text": [
      "Collecting matplotlib\n",
      "  Downloading https://files.pythonhosted.org/packages/93/4b/52da6b1523d5139d04e02d9e26ceda6146b48f2a4e5d2abfdf1c7bac8c40/matplotlib-3.2.1-cp36-cp36m-manylinux1_x86_64.whl (12.4MB)\n",
      "\u001b[K    100% |████████████████████████████████| 12.4MB 127kB/s  eta 0:00:01\n",
      "\u001b[?25hCollecting kiwisolver>=1.0.1 (from matplotlib)\n",
      "  Downloading https://files.pythonhosted.org/packages/ae/23/147de658aabbf968324551ea22c0c13a00284c4ef49a77002e91f79657b7/kiwisolver-1.2.0-cp36-cp36m-manylinux1_x86_64.whl (88kB)\n",
      "\u001b[K    100% |████████████████████████████████| 92kB 13.3MB/s ta 0:00:01\n",
      "\u001b[?25hCollecting python-dateutil>=2.1 (from matplotlib)\n",
      "  Using cached https://files.pythonhosted.org/packages/d4/70/d60450c3dd48ef87586924207ae8907090de0b306af2bce5d134d78615cb/python_dateutil-2.8.1-py2.py3-none-any.whl\n",
      "Collecting numpy>=1.11 (from matplotlib)\n",
      "  Using cached https://files.pythonhosted.org/packages/3d/fc/4763e5f17ac6e7e7d55f377cde859ca1c5d5ac624441ab45315bc578aa9e/numpy-1.18.3-cp36-cp36m-manylinux1_x86_64.whl\n",
      "Collecting pyparsing!=2.0.4,!=2.1.2,!=2.1.6,>=2.0.1 (from matplotlib)\n",
      "  Using cached https://files.pythonhosted.org/packages/8a/bb/488841f56197b13700afd5658fc279a2025a39e22449b7cf29864669b15d/pyparsing-2.4.7-py2.py3-none-any.whl\n",
      "Collecting cycler>=0.10 (from matplotlib)\n",
      "  Downloading https://files.pythonhosted.org/packages/f7/d2/e07d3ebb2bd7af696440ce7e754c59dd546ffe1bbe732c8ab68b9c834e61/cycler-0.10.0-py2.py3-none-any.whl\n",
      "Collecting six>=1.5 (from python-dateutil>=2.1->matplotlib)\n",
      "  Using cached https://files.pythonhosted.org/packages/65/eb/1f97cb97bfc2390a276969c6fae16075da282f5058082d4cb10c6c5c1dba/six-1.14.0-py2.py3-none-any.whl\n",
      "Installing collected packages: kiwisolver, six, python-dateutil, numpy, pyparsing, cycler, matplotlib\n",
      "Successfully installed cycler-0.10.0 kiwisolver-1.2.0 matplotlib-3.2.1 numpy-1.18.3 pyparsing-2.4.7 python-dateutil-2.8.1 six-1.14.0\n"
     ]
    }
   ],
   "source": [
    "!pip3 install matplotlib"
   ]
  }
 ],
 "metadata": {
  "kernelspec": {
   "display_name": "Python 3",
   "language": "python",
   "name": "python3"
  },
  "language_info": {
   "codemirror_mode": {
    "name": "ipython",
    "version": 3
   },
   "file_extension": ".py",
   "mimetype": "text/x-python",
   "name": "python",
   "nbconvert_exporter": "python",
   "pygments_lexer": "ipython3",
   "version": "3.6.9"
  }
 },
 "nbformat": 4,
 "nbformat_minor": 2
}
