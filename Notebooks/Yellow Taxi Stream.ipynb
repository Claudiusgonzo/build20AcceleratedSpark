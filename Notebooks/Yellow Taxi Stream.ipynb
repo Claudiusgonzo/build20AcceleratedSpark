{
 "cells": [
  {
   "cell_type": "markdown",
   "metadata": {},
   "source": [
    "## Taxi Queries on a Single DF from CSV"
   ]
  },
  {
   "cell_type": "code",
   "execution_count": 1,
   "metadata": {},
   "outputs": [],
   "source": [
    "from pyspark.sql import SparkSession\n",
    "import pyspark.sql.functions as F"
   ]
  },
  {
   "cell_type": "code",
   "execution_count": 2,
   "metadata": {},
   "outputs": [],
   "source": [
    "from pyspark.sql.types import *"
   ]
  },
  {
   "cell_type": "code",
   "execution_count": 3,
   "metadata": {},
   "outputs": [
    {
     "data": {
      "application/vnd.jupyter.widget-view+json": {
       "model_id": "",
       "version_major": 2,
       "version_minor": 0
      },
      "text/plain": [
       "FloatProgress(value=0.0, bar_style='info', description='Progress:', layout=Layout(height='25px', width='50%'),…"
      ]
     },
     "metadata": {},
     "output_type": "display_data"
    }
   ],
   "source": [
    "taxi_file_loc=\"abfs:///taxi_data/yellow_tripdata_2019-12.csv\"\n",
    "taxi_file_dir=\"/taxi_data/\"\n",
    "taxi_output_dir=\"/taxi_data_year_count\"\n",
    "schema_cols = \"VendorID,tpep_pickup_datetime,tpep_dropoff_datetime,passenger_count,trip_distance,RatecodeID,store_and_fwd_flag,PULocationID,DOLocationID,payment_type,fare_amount,extra,mta_tax,tip_amount,tolls_amount,improvement_surcharge,total_amount,congestion_surcharge\".split(',')\n",
    "bad_recordset_path=\"/taxi_error\"\n",
    "checkpoint_loc=\"/checkpoints\""
   ]
  },
  {
   "cell_type": "markdown",
   "metadata": {},
   "source": [
    "### Define schema ahead of time for perf"
   ]
  },
  {
   "cell_type": "code",
   "execution_count": 4,
   "metadata": {},
   "outputs": [
    {
     "data": {
      "application/vnd.jupyter.widget-view+json": {
       "model_id": "",
       "version_major": 2,
       "version_minor": 0
      },
      "text/plain": [
       "FloatProgress(value=0.0, bar_style='info', description='Progress:', layout=Layout(height='25px', width='50%'),…"
      ]
     },
     "metadata": {},
     "output_type": "display_data"
    }
   ],
   "source": [
    "taxi_orig_schema = (\n",
    "    StructType()\n",
    "    .add(\"VendorID\", IntegerType())\n",
    "    .add(\"tpep_pickup_datetime\", TimestampType())\n",
    "    .add(\"tpep_dropoff_datetime\", TimestampType())\n",
    "    .add(\"passenger_count\", IntegerType())\n",
    "    .add(\"trip_distance\", DoubleType())\n",
    "    .add(\"RatecodeID\", IntegerType())\n",
    "    .add(\"store_and_fwd_flag\", StringType())\n",
    "    .add(\"PULocationID\", IntegerType())\n",
    "    .add(\"DOLocationID\", IntegerType())\n",
    "    .add(\"payment_type\", IntegerType())\n",
    "    .add(\"fare_amount\", DoubleType())\n",
    "    .add(\"extra\", DoubleType())\n",
    "    .add(\"mta_tax\", DoubleType())\n",
    "    .add(\"tip_amount\", DoubleType())\n",
    "    .add(\"tolls_amount\", DoubleType())\n",
    "    .add(\"improvement_surcharge\", DoubleType())\n",
    "    .add(\"total_amount\", DoubleType())\n",
    "    .add(\"congestion_surcharge\", DoubleType())\n",
    ")\n",
    "\n",
    "taxi_clean_chema = (\n",
    "    StructType()\n",
    "    .add(\"tpep_pickup_datetime\", TimestampType())\n",
    "    .add(\"tpep_dropoff_datetime\", TimestampType())\n",
    "    .add(\"passenger_count\", IntegerType())\n",
    "    .add(\"trip_distance\", DoubleType())\n",
    "    .add(\"payment_type\", IntegerType())\n",
    "    .add(\"fare_amount\", DoubleType())\n",
    "    .add(\"extra\", DoubleType())\n",
    "    .add(\"mta_tax\", DoubleType())\n",
    "    .add(\"tip_amount\", DoubleType())\n",
    "    .add(\"tolls_amount\", DoubleType())\n",
    "    .add(\"improvement_surcharge\", DoubleType())\n",
    "    .add(\"total_amount\", DoubleType())\n",
    "    .add(\"congestion_surcharge\", DoubleType())\n",
    ")"
   ]
  },
  {
   "cell_type": "markdown",
   "metadata": {},
   "source": [
    "### Define Input DF"
   ]
  },
  {
   "cell_type": "code",
   "execution_count": 5,
   "metadata": {},
   "outputs": [
    {
     "data": {
      "application/vnd.jupyter.widget-view+json": {
       "model_id": "",
       "version_major": 2,
       "version_minor": 0
      },
      "text/plain": [
       "FloatProgress(value=0.0, bar_style='info', description='Progress:', layout=Layout(height='25px', width='50%'),…"
      ]
     },
     "metadata": {},
     "output_type": "display_data"
    }
   ],
   "source": [
    "taxi_input_df = (\n",
    "    spark\n",
    "    .readStream\n",
    "    .option(\"maxFilesPerTrigger\", 1)\n",
    "    .schema(taxi_orig_schema)\n",
    "    .option(\"badRecordsPath\", bad_recordset_path) #any bad records will go here\n",
    "    .option(\"header\", \"false\")\n",
    "    .csv(taxi_file_dir) #the source\n",
    ")"
   ]
  },
  {
   "cell_type": "code",
   "execution_count": 6,
   "metadata": {},
   "outputs": [
    {
     "data": {
      "application/vnd.jupyter.widget-view+json": {
       "model_id": "",
       "version_major": 2,
       "version_minor": 0
      },
      "text/plain": [
       "FloatProgress(value=0.0, bar_style='info', description='Progress:', layout=Layout(height='25px', width='50%'),…"
      ]
     },
     "metadata": {},
     "output_type": "display_data"
    }
   ],
   "source": [
    "query= (\n",
    "    taxi_input_df\n",
    "    .writeStream\n",
    "    .format(\"parquet\")\n",
    "    .option(\"path\", taxi_output_dir)\n",
    "    .option(\"checkpointLocation\", checkpoint_loc)\n",
    "    .outputMode(\"append\")\n",
    "    .option(\"startingOffsets\", \"earliest\")\n",
    "    .queryName(\"taxi\")\n",
    "#    .trigger(processingTime='5 seconds')\n",
    "    .start()\n",
    ")"
   ]
  },
  {
   "cell_type": "code",
   "execution_count": 10,
   "metadata": {},
   "outputs": [
    {
     "data": {
      "application/vnd.jupyter.widget-view+json": {
       "model_id": "",
       "version_major": 2,
       "version_minor": 0
      },
      "text/plain": [
       "FloatProgress(value=0.0, bar_style='info', description='Progress:', layout=Layout(height='25px', width='50%'),…"
      ]
     },
     "metadata": {},
     "output_type": "display_data"
    }
   ],
   "source": [
    "query.stop()"
   ]
  },
  {
   "cell_type": "markdown",
   "metadata": {},
   "source": [
    "### Define Output DF (query)"
   ]
  },
  {
   "cell_type": "markdown",
   "metadata": {},
   "source": [
    "### Read it"
   ]
  },
  {
   "cell_type": "markdown",
   "metadata": {},
   "source": [
    "## Run Queries"
   ]
  },
  {
   "cell_type": "code",
   "execution_count": 6,
   "metadata": {},
   "outputs": [
    {
     "data": {
      "application/vnd.jupyter.widget-view+json": {
       "model_id": "",
       "version_major": 2,
       "version_minor": 0
      },
      "text/plain": [
       "FloatProgress(value=0.0, bar_style='info', description='Progress:', layout=Layout(height='25px', width='50%'),…"
      ]
     },
     "metadata": {},
     "output_type": "display_data"
    }
   ],
   "source": [
    "taxi_input_df.createOrReplaceTempView('nyyellowtaxi')"
   ]
  },
  {
   "cell_type": "code",
   "execution_count": 7,
   "metadata": {},
   "outputs": [
    {
     "data": {
      "application/vnd.jupyter.widget-view+json": {
       "model_id": "",
       "version_major": 2,
       "version_minor": 0
      },
      "text/plain": [
       "FloatProgress(value=0.0, bar_style='info', description='Progress:', layout=Layout(height='25px', width='50%'),…"
      ]
     },
     "metadata": {},
     "output_type": "display_data"
    }
   ],
   "source": [
    "import uuid\n",
    "\n",
    "def write_batch_df(batch_df, epoch_id):\n",
    "    try:\n",
    "        batch_df.write.csv('{}/taxi_{}'.format(taxi_output_dir, epoch_id), mode='ignore')\n",
    "    except:\n",
    "        pass"
   ]
  },
  {
   "cell_type": "code",
   "execution_count": 8,
   "metadata": {},
   "outputs": [
    {
     "data": {
      "application/vnd.jupyter.widget-view+json": {
       "model_id": "",
       "version_major": 2,
       "version_minor": 0
      },
      "text/plain": [
       "FloatProgress(value=0.0, bar_style='info', description='Progress:', layout=Layout(height='25px', width='50%'),…"
      ]
     },
     "metadata": {},
     "output_type": "display_data"
    }
   ],
   "source": [
    "q0 = (\n",
    "    spark.sql(\"SELECT passenger_count, \\\n",
    "    year(tpep_pickup_datetime) year, count(*) total FROM nyyellowtaxi GROUP BY passenger_count, year(tpep_pickup_datetime)\")\n",
    "    .writeStream\n",
    "    .outputMode(\"complete\")\n",
    "    .foreachBatch(write_batch_df)\n",
    "    .option(\"startingOffsets\", \"earliest\")\n",
    "    .queryName(\"year_count\")\n",
    "    .trigger(processingTime='20 seconds')    \n",
    "    .start()\n",
    ")"
   ]
  },
  {
   "cell_type": "code",
   "execution_count": 10,
   "metadata": {
    "scrolled": false
   },
   "outputs": [
    {
     "data": {
      "application/vnd.jupyter.widget-view+json": {
       "model_id": "",
       "version_major": 2,
       "version_minor": 0
      },
      "text/plain": [
       "FloatProgress(value=0.0, bar_style='info', description='Progress:', layout=Layout(height='25px', width='50%'),…"
      ]
     },
     "metadata": {},
     "output_type": "display_data"
    },
    {
     "name": "stdout",
     "output_type": "stream",
     "text": [
      "{u'message': u'Processing new data', u'isTriggerActive': True, u'isDataAvailable': True}"
     ]
    }
   ],
   "source": [
    "q0.status"
   ]
  },
  {
   "cell_type": "code",
   "execution_count": 6,
   "metadata": {},
   "outputs": [
    {
     "data": {
      "application/vnd.jupyter.widget-view+json": {
       "model_id": "",
       "version_major": 2,
       "version_minor": 0
      },
      "text/plain": [
       "FloatProgress(value=0.0, bar_style='info', description='Progress:', layout=Layout(height='25px', width='50%'),…"
      ]
     },
     "metadata": {},
     "output_type": "display_data"
    }
   ],
   "source": [
    "amount = (\n",
    "taxi_input_df\n",
    ".filter(F.col(\"fare_amount\") > 11.0)\n",
    ".writeStream\n",
    ".format(\"memory\")\n",
    ".queryName(\"query4\")\n",
    ".outputMode(\"append\")\n",
    ".start()   \n",
    ")"
   ]
  },
  {
   "cell_type": "code",
   "execution_count": 7,
   "metadata": {},
   "outputs": [
    {
     "data": {
      "application/vnd.jupyter.widget-view+json": {
       "model_id": "",
       "version_major": 2,
       "version_minor": 0
      },
      "text/plain": [
       "FloatProgress(value=0.0, bar_style='info', description='Progress:', layout=Layout(height='25px', width='50%'),…"
      ]
     },
     "metadata": {},
     "output_type": "display_data"
    },
    {
     "name": "stdout",
     "output_type": "stream",
     "text": [
      "{u'message': u'Processing new data', u'isTriggerActive': True, u'isDataAvailable': True}"
     ]
    }
   ],
   "source": [
    "amount.status"
   ]
  },
  {
   "cell_type": "code",
   "execution_count": null,
   "metadata": {},
   "outputs": [
    {
     "data": {
      "application/vnd.jupyter.widget-view+json": {
       "model_id": "de48abab00f64efbbdde22e22121809b",
       "version_major": 2,
       "version_minor": 0
      },
      "text/plain": [
       "FloatProgress(value=0.0, bar_style='info', description='Progress:', layout=Layout(height='25px', width='50%'),…"
      ]
     },
     "metadata": {},
     "output_type": "display_data"
    }
   ],
   "source": [
    "%%sql\n",
    "select * from query4"
   ]
  },
  {
   "cell_type": "code",
   "execution_count": 70,
   "metadata": {},
   "outputs": [
    {
     "data": {
      "application/vnd.jupyter.widget-view+json": {
       "model_id": "",
       "version_major": 2,
       "version_minor": 0
      },
      "text/plain": [
       "FloatProgress(value=0.0, bar_style='info', description='Progress:', layout=Layout(height='25px', width='50%'),…"
      ]
     },
     "metadata": {},
     "output_type": "display_data"
    }
   ],
   "source": [
    "avg_fare_psg_count = spark.sql(\"SELECT passenger_count, \\\n",
    "                                avg(total_amount) avg_fare FROM nyyellowtaxi GROUP BY passenger_count\")"
   ]
  },
  {
   "cell_type": "code",
   "execution_count": 71,
   "metadata": {},
   "outputs": [
    {
     "data": {
      "application/vnd.jupyter.widget-view+json": {
       "model_id": "",
       "version_major": 2,
       "version_minor": 0
      },
      "text/plain": [
       "FloatProgress(value=0.0, bar_style='info', description='Progress:', layout=Layout(height='25px', width='50%'),…"
      ]
     },
     "metadata": {},
     "output_type": "display_data"
    },
    {
     "name": "stdout",
     "output_type": "stream",
     "text": [
      "DataFrame[passenger_count: int, avg_fare: double]"
     ]
    }
   ],
   "source": [
    "avg_fare_psg_count"
   ]
  },
  {
   "cell_type": "code",
   "execution_count": null,
   "metadata": {},
   "outputs": [],
   "source": [
    "psg_year_count = spark.sql(\"SELECT passenger_count, \\\n",
    "                    year(tpep_pickup_datetime) trip_year, \\\n",
    "                    round(trip_distance) distance, \\\n",
    "                    count(*) trips \\\n",
    "                    FROM nyyellowtaxi \\\n",
    "                    GROUP BY passenger_count, \\\n",
    "                        year(tpep_pickup_datetime), round(trip_distance) ORDER BY trip_year, trips desc\")"
   ]
  },
  {
   "cell_type": "code",
   "execution_count": null,
   "metadata": {},
   "outputs": [],
   "source": [
    "psg_year_count.show()"
   ]
  },
  {
   "cell_type": "code",
   "execution_count": null,
   "metadata": {},
   "outputs": [],
   "source": []
  },
  {
   "cell_type": "code",
   "execution_count": null,
   "metadata": {},
   "outputs": [],
   "source": []
  },
  {
   "cell_type": "code",
   "execution_count": null,
   "metadata": {},
   "outputs": [],
   "source": []
  },
  {
   "cell_type": "code",
   "execution_count": null,
   "metadata": {},
   "outputs": [],
   "source": []
  },
  {
   "cell_type": "code",
   "execution_count": null,
   "metadata": {},
   "outputs": [],
   "source": []
  }
 ],
 "metadata": {
  "kernelspec": {
   "display_name": "Python 3.7 - Spark (local)",
   "language": "python",
   "name": "spark-3-python"
  },
  "language_info": {
   "codemirror_mode": {
    "name": "ipython",
    "version": 3
   },
   "file_extension": ".py",
   "mimetype": "text/x-python",
   "name": "python",
   "nbconvert_exporter": "python",
   "pygments_lexer": "ipython3",
   "version": "3.7.6"
  }
 },
 "nbformat": 4,
 "nbformat_minor": 4
}
