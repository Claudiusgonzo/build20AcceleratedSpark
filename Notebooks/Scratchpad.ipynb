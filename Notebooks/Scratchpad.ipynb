{
 "cells": [
  {
   "cell_type": "code",
   "execution_count": 1,
   "metadata": {},
   "outputs": [],
   "source": [
    "import os, glob, shutil\n",
    "import pandas as pd\n",
    "import numpy as np\n",
    "import csv\n",
    "import pandas as pd\n"
   ]
  },
  {
   "cell_type": "code",
   "execution_count": 2,
   "metadata": {},
   "outputs": [
    {
     "data": {
      "text/plain": [
       "True"
      ]
     },
     "execution_count": 2,
     "metadata": {},
     "output_type": "execute_result"
    }
   ],
   "source": [
    "src= os.path.expanduser(r\"C:\\git\\neal\\PipeDream\\benchmarking\\queries\")\n",
    "os.path.exists(src)"
   ]
  },
  {
   "cell_type": "code",
   "execution_count": 3,
   "metadata": {},
   "outputs": [],
   "source": [
    "query = 2\n",
    "\n",
    "counts = pd.read_csv(os.path.join(src, \"line_count.csv\"), header=None)\n",
    "input_times = pd.read_csv(os.path.join(src, \"fpga_input_times.csv\"), header=None)\n",
    "proc_times = pd.read_csv(os.path.join(src, f\"fpga_proc_times_q{query}.csv\"), header=None) / 1000000\n",
    "save_times = os.path.join(src, f\"fpga_taxi_q{query}.csv\")"
   ]
  },
  {
   "cell_type": "code",
   "execution_count": 4,
   "metadata": {},
   "outputs": [],
   "source": [
    "df = pd.read_csv(os.path.join(src, \"fpga_taxi_template.csv\"), header=None)\n",
    "\n",
    "columns = [\"time\", \"total\", \"size\", \"input_throughput\", \"process_throughput\", \"input_time\", \"process_time\"]\n",
    "columns = {i: v for i, v in enumerate(columns)}\n",
    "\n",
    "df = df.rename(columns = columns)"
   ]
  },
  {
   "cell_type": "code",
   "execution_count": 5,
   "metadata": {},
   "outputs": [],
   "source": [
    "df['total'] = counts[0]\n",
    "df['input_time'] = input_times[0]\n",
    "df['process_time'] = proc_times[0]\n",
    "df['input_throughput'] = df['total'] / df['input_time']\n",
    "df['process_throughput'] = df['total'] / df['process_time']"
   ]
  },
  {
   "cell_type": "code",
   "execution_count": 6,
   "metadata": {},
   "outputs": [
    {
     "data": {
      "text/html": [
       "<div>\n",
       "<style scoped>\n",
       "    .dataframe tbody tr th:only-of-type {\n",
       "        vertical-align: middle;\n",
       "    }\n",
       "\n",
       "    .dataframe tbody tr th {\n",
       "        vertical-align: top;\n",
       "    }\n",
       "\n",
       "    .dataframe thead th {\n",
       "        text-align: right;\n",
       "    }\n",
       "</style>\n",
       "<table border=\"1\" class=\"dataframe\">\n",
       "  <thead>\n",
       "    <tr style=\"text-align: right;\">\n",
       "      <th></th>\n",
       "      <th>time</th>\n",
       "      <th>total</th>\n",
       "      <th>size</th>\n",
       "      <th>input_throughput</th>\n",
       "      <th>process_throughput</th>\n",
       "      <th>input_time</th>\n",
       "      <th>process_time</th>\n",
       "    </tr>\n",
       "  </thead>\n",
       "  <tbody>\n",
       "    <tr>\n",
       "      <td>0</td>\n",
       "      <td>2020-05-07T02:45:07.525Z</td>\n",
       "      <td>14092413</td>\n",
       "      <td>98</td>\n",
       "      <td>1.008073e+06</td>\n",
       "      <td>1.498436e+07</td>\n",
       "      <td>13.979560</td>\n",
       "      <td>0.940475</td>\n",
       "    </tr>\n",
       "    <tr>\n",
       "      <td>1</td>\n",
       "      <td>2020-05-07T02:45:17.757Z</td>\n",
       "      <td>13380122</td>\n",
       "      <td>98</td>\n",
       "      <td>1.021916e+06</td>\n",
       "      <td>1.498245e+07</td>\n",
       "      <td>13.093169</td>\n",
       "      <td>0.893053</td>\n",
       "    </tr>\n",
       "    <tr>\n",
       "      <td>2</td>\n",
       "      <td>2020-05-07T02:45:25.482Z</td>\n",
       "      <td>14387371</td>\n",
       "      <td>98</td>\n",
       "      <td>1.020568e+06</td>\n",
       "      <td>1.488521e+07</td>\n",
       "      <td>14.097414</td>\n",
       "      <td>0.966555</td>\n",
       "    </tr>\n",
       "    <tr>\n",
       "      <td>3</td>\n",
       "      <td>2020-05-07T02:45:29.054Z</td>\n",
       "      <td>14294783</td>\n",
       "      <td>98</td>\n",
       "      <td>9.021051e+05</td>\n",
       "      <td>1.462753e+07</td>\n",
       "      <td>15.846028</td>\n",
       "      <td>0.977252</td>\n",
       "    </tr>\n",
       "    <tr>\n",
       "      <td>4</td>\n",
       "      <td>2020-05-07T02:45:35.481Z</td>\n",
       "      <td>14796312</td>\n",
       "      <td>98</td>\n",
       "      <td>9.922677e+05</td>\n",
       "      <td>1.465451e+07</td>\n",
       "      <td>14.911613</td>\n",
       "      <td>1.009676</td>\n",
       "    </tr>\n",
       "    <tr>\n",
       "      <td>...</td>\n",
       "      <td>...</td>\n",
       "      <td>...</td>\n",
       "      <td>...</td>\n",
       "      <td>...</td>\n",
       "      <td>...</td>\n",
       "      <td>...</td>\n",
       "      <td>...</td>\n",
       "    </tr>\n",
       "    <tr>\n",
       "      <td>77</td>\n",
       "      <td>2020-05-07T02:50:21.053Z</td>\n",
       "      <td>6073357</td>\n",
       "      <td>98</td>\n",
       "      <td>1.019814e+06</td>\n",
       "      <td>2.725884e+05</td>\n",
       "      <td>5.955355</td>\n",
       "      <td>22.280323</td>\n",
       "    </tr>\n",
       "    <tr>\n",
       "      <td>78</td>\n",
       "      <td>2020-05-07T02:50:28.426Z</td>\n",
       "      <td>6567787</td>\n",
       "      <td>98</td>\n",
       "      <td>1.476352e+07</td>\n",
       "      <td>2.777633e+05</td>\n",
       "      <td>0.444866</td>\n",
       "      <td>23.645268</td>\n",
       "    </tr>\n",
       "    <tr>\n",
       "      <td>79</td>\n",
       "      <td>2020-05-07T02:50:35.988Z</td>\n",
       "      <td>7213889</td>\n",
       "      <td>98</td>\n",
       "      <td>9.544614e+05</td>\n",
       "      <td>1.378436e+05</td>\n",
       "      <td>7.558073</td>\n",
       "      <td>52.333855</td>\n",
       "    </tr>\n",
       "    <tr>\n",
       "      <td>80</td>\n",
       "      <td>2020-05-07T02:50:43.080Z</td>\n",
       "      <td>6878111</td>\n",
       "      <td>98</td>\n",
       "      <td>1.467562e+07</td>\n",
       "      <td>2.787216e+05</td>\n",
       "      <td>0.468676</td>\n",
       "      <td>24.677348</td>\n",
       "    </tr>\n",
       "    <tr>\n",
       "      <td>81</td>\n",
       "      <td>2020-05-07T02:50:49.974Z</td>\n",
       "      <td>6896315</td>\n",
       "      <td>98</td>\n",
       "      <td>9.440169e+05</td>\n",
       "      <td>1.370501e+05</td>\n",
       "      <td>7.305288</td>\n",
       "      <td>50.319654</td>\n",
       "    </tr>\n",
       "  </tbody>\n",
       "</table>\n",
       "<p>82 rows × 7 columns</p>\n",
       "</div>"
      ],
      "text/plain": [
       "                        time     total  size  input_throughput  \\\n",
       "0   2020-05-07T02:45:07.525Z  14092413    98      1.008073e+06   \n",
       "1   2020-05-07T02:45:17.757Z  13380122    98      1.021916e+06   \n",
       "2   2020-05-07T02:45:25.482Z  14387371    98      1.020568e+06   \n",
       "3   2020-05-07T02:45:29.054Z  14294783    98      9.021051e+05   \n",
       "4   2020-05-07T02:45:35.481Z  14796312    98      9.922677e+05   \n",
       "..                       ...       ...   ...               ...   \n",
       "77  2020-05-07T02:50:21.053Z   6073357    98      1.019814e+06   \n",
       "78  2020-05-07T02:50:28.426Z   6567787    98      1.476352e+07   \n",
       "79  2020-05-07T02:50:35.988Z   7213889    98      9.544614e+05   \n",
       "80  2020-05-07T02:50:43.080Z   6878111    98      1.467562e+07   \n",
       "81  2020-05-07T02:50:49.974Z   6896315    98      9.440169e+05   \n",
       "\n",
       "    process_throughput  input_time  process_time  \n",
       "0         1.498436e+07   13.979560      0.940475  \n",
       "1         1.498245e+07   13.093169      0.893053  \n",
       "2         1.488521e+07   14.097414      0.966555  \n",
       "3         1.462753e+07   15.846028      0.977252  \n",
       "4         1.465451e+07   14.911613      1.009676  \n",
       "..                 ...         ...           ...  \n",
       "77        2.725884e+05    5.955355     22.280323  \n",
       "78        2.777633e+05    0.444866     23.645268  \n",
       "79        1.378436e+05    7.558073     52.333855  \n",
       "80        2.787216e+05    0.468676     24.677348  \n",
       "81        1.370501e+05    7.305288     50.319654  \n",
       "\n",
       "[82 rows x 7 columns]"
      ]
     },
     "execution_count": 6,
     "metadata": {},
     "output_type": "execute_result"
    }
   ],
   "source": [
    "df"
   ]
  },
  {
   "cell_type": "code",
   "execution_count": 11,
   "metadata": {},
   "outputs": [
    {
     "data": {
      "text/plain": [
       "37.58087687091012"
      ]
     },
     "execution_count": 11,
     "metadata": {},
     "output_type": "execute_result"
    }
   ],
   "source": [
    "df['process_throughput'].max() * 98 / 1024 / 1024"
   ]
  },
  {
   "cell_type": "code",
   "execution_count": 7,
   "metadata": {},
   "outputs": [],
   "source": [
    "df.to_csv(save_times, header=None, index=False)"
   ]
  },
  {
   "cell_type": "code",
   "execution_count": 8,
   "metadata": {},
   "outputs": [
    {
     "data": {
      "image/png": "[encoded data removed]",
      "text/plain": [
       "<Figure size 1080x1080 with 1 Axes>"
      ]
     },
     "metadata": {
      "needs_background": "light"
     },
     "output_type": "display_data"
    }
   ],
   "source": [
    "import matplotlib.pyplot as plt\n",
    "plt.rcParams['figure.figsize'] = (15,15)\n",
    "_=df.plot.bar(y='process_time')"
   ]
  },
  {
   "cell_type": "code",
   "execution_count": 24,
   "metadata": {},
   "outputs": [
    {
     "data": {
      "text/plain": [
       "0"
      ]
     },
     "execution_count": 24,
     "metadata": {},
     "output_type": "execute_result"
    }
   ],
   "source": [
    "#orig_data_path=\"/data/home/boris/yellow/taxi_data/\"\n",
    "src=\"/home/boris/data/taxi_data_cleaned_18_standard\"\n",
    "dest=\"/home/boris/data/taxi_data_18\"\n",
    "files = glob.glob(os.path.join(src, \"*.csv\"))\n",
    "\n",
    "len(files)"
   ]
  },
  {
   "cell_type": "code",
   "execution_count": 3,
   "metadata": {},
   "outputs": [],
   "source": [
    "fn = \"yellow_tripdata_2014-03.csv\"\n",
    "\n",
    "srcfl = os.path.join(src, fn)\n",
    "destfl = os.path.join(dest, fn)"
   ]
  },
  {
   "cell_type": "code",
   "execution_count": 10,
   "metadata": {},
   "outputs": [],
   "source": [
    "def num_cols(srcfl):\n",
    "    with open(srcfl, \"r\") as fd:\n",
    "        csvreader = csv.reader(fd)\n",
    "        for row in csvreader:\n",
    "            return len(row)\n"
   ]
  },
  {
   "cell_type": "code",
   "execution_count": 15,
   "metadata": {},
   "outputs": [],
   "source": [
    "lngths = dict(zip(files, map(num_cols, files)))"
   ]
  },
  {
   "cell_type": "code",
   "execution_count": 21,
   "metadata": {},
   "outputs": [],
   "source": [
    "fltrd = {k: v for k, v in lngths.items() if v == 18}"
   ]
  },
  {
   "cell_type": "code",
   "execution_count": 25,
   "metadata": {},
   "outputs": [
    {
     "data": {
      "text/plain": [
       "82"
      ]
     },
     "execution_count": 25,
     "metadata": {},
     "output_type": "execute_result"
    }
   ],
   "source": [
    "len(fltrd)"
   ]
  },
  {
   "cell_type": "code",
   "execution_count": 27,
   "metadata": {},
   "outputs": [],
   "source": [
    "if not os.path.exists(dest): os.makedirs(dest)\n",
    "for f in fltrd.keys():\n",
    "    destfl = os.path.join(dest, os.path.split(f)[1])\n",
    "    shutil.move(f, destfl)"
   ]
  },
  {
   "cell_type": "code",
   "execution_count": 3,
   "metadata": {},
   "outputs": [],
   "source": [
    "with open(files[0], \"r\") as fd:\n",
    "    lines = fd.readlines()\n",
    "avg_lngths = np.mean([len(l) for l in lines])"
   ]
  },
  {
   "cell_type": "code",
   "execution_count": 4,
   "metadata": {},
   "outputs": [
    {
     "data": {
      "text/plain": [
       "97.9367625610517"
      ]
     },
     "execution_count": 4,
     "metadata": {},
     "output_type": "execute_result"
    }
   ],
   "source": [
    "avg_lngths"
   ]
  }
 ],
 "metadata": {
  "kernelspec": {
   "display_name": "Python 3",
   "language": "python",
   "name": "python3"
  },
  "language_info": {
   "codemirror_mode": {
    "name": "ipython",
    "version": 3
   },
   "file_extension": ".py",
   "mimetype": "text/x-python",
   "name": "python",
   "nbconvert_exporter": "python",
   "pygments_lexer": "ipython3",
   "version": "3.7.4"
  }
 },
 "nbformat": 4,
 "nbformat_minor": 2
}
